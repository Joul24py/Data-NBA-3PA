{
 "cells": [
  {
   "cell_type": "markdown",
   "id": "18ea45f4",
   "metadata": {},
   "source": [
    "Project: Data analysis with Python about NBA\n",
    "\n",
    "Author: Joel Alejandro Espinoza Sánchez\n",
    "\n",
    "---\n",
    "\n",
    "# Data Analytics Project: The most impactful statistics in order to win the most in the NBA\n",
    "\n",
    "I'm an NBA fan. Following the league since 2015 thanks to some great players like Kobe Bryant and Stephen Curry. But as it can be noticeable, I started to follow the NBA in an era where Stephen Curry was changing the game with the three point shots.\n",
    "\n",
    "With some of my friends, we debated the fact that the players where tying to adapt to this change. Offense was changing in a way where almost every player preferred to shot a three before going in for a layup. Defense tactics were booming extending the guard beyond the three point line.\n",
    "\n",
    "This made me think, does the three point is really meaning a difference in this modern NBA. I've seen stats like the 2018 Rockets who had a notorious collapse against the Warriors in the last game and then, ESPN threw a stat that the Rockets had a poor percentage in the three.\n",
    "\n",
    "I've seen similar cases like the recent Lakers (after the bubble) that they lacked a good shooter and they didn't got so far in the 2021 playoffs or in this same year the Warriors who only had Curry but most of the roster was injuried.\n",
    "\n",
    "I've had this sensation in other cases and I have to say that all of this **is just a feeling** so now that I know some data analytics insights I wanted to do a research, *is the three point shot a real variable that really impacts in the number of wins during a NBA season?*\n",
    "\n",
    "With this question I started to investigate a little and, maybe this project is not only about the three point shots but along this notebook I'm going to keep a record of all this project I wanted to do and practice some data analytics topics I've learned\n",
    "\n",
    "---\n",
    "\n",
    "## Phase 1: Is the three point shot a real variable that really impacts in the number of wins during a NBA season?\n",
    "\n",
    "So in order to start this project I needed data to start this project. By the time I am doing this project, the last NBA season is the 2022 - 2023 season. Right now we now that the champions are the Denver Nuggets and the 2023 - 2024 season has not started. So I'm going to start a first analysis with this last season.\n",
    "\n",
    "### Chapter 1: Obtaining the data\n",
    "\n",
    "Thanks to watching [demas6basket](https://www.youtube.com/@demas6basket) I found a great page that has (I think) almost any useful basketball statistic and it's going to be my main reference throughout this project which is [Basketball Reference](https://www.basketball-reference.com/).\n",
    "\n",
    "I started looking on its website the [2022 - 2023 season summary](https://www.basketball-reference.com/leagues/NBA_2023.html) and in this first approach I liked the stats per game and the total stats charts.\n",
    "\n",
    "Practicing some web scrapping insights I used the Beautiful Soup package to get this values:"
   ]
  },
  {
   "cell_type": "code",
   "execution_count": null,
   "id": "4e059954",
   "metadata": {},
   "outputs": [],
   "source": []
  }
 ],
 "metadata": {
  "kernelspec": {
   "display_name": "Python 3 (ipykernel)",
   "language": "python",
   "name": "python3"
  },
  "language_info": {
   "codemirror_mode": {
    "name": "ipython",
    "version": 3
   },
   "file_extension": ".py",
   "mimetype": "text/x-python",
   "name": "python",
   "nbconvert_exporter": "python",
   "pygments_lexer": "ipython3",
   "version": "3.10.12"
  }
 },
 "nbformat": 4,
 "nbformat_minor": 5
}
